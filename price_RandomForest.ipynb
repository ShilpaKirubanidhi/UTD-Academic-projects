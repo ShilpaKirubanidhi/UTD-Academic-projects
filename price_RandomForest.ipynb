{
 "cells": [
  {
   "cell_type": "code",
   "execution_count": 20,
   "metadata": {},
   "outputs": [],
   "source": [
    "#importing libraries\n",
    "import pandas as pd\n",
    "import numpy as np\n",
    "import seaborn as sns\n",
    "import math\n",
    "import matplotlib.pyplot as plt\n",
    "%matplotlib inline\n",
    "from sklearn import preprocessing\n",
    "from sklearn.preprocessing import StandardScaler\n",
    "from sklearn.preprocessing import LabelEncoder\n",
    "from sklearn.linear_model import LinearRegression\n",
    "from sklearn.ensemble import RandomForestRegressor\n",
    "from sklearn.model_selection import train_test_split, cross_val_score\n",
    "from sklearn.metrics import r2_score, mean_absolute_error, mean_squared_error\n",
    "from sklearn import metrics\n",
    "\n",
    "\n",
    "import warnings\n",
    "warnings.filterwarnings('ignore')"
   ]
  },
  {
   "cell_type": "code",
   "execution_count": 21,
   "metadata": {},
   "outputs": [
    {
     "data": {
      "text/plain": [
       "(397896, 26)"
      ]
     },
     "execution_count": 21,
     "metadata": {},
     "output_type": "execute_result"
    }
   ],
   "source": [
    "#importing the data \n",
    "df_raw=pd.read_csv(\"vehicles.csv\")\n",
    "df1=pd.DataFrame(df_raw)\n",
    "\n",
    "\n",
    "df1=df1[(df1['year']>=2000) & (df1['year']<=2020)]\n",
    "df1.shape"
   ]
  },
  {
   "cell_type": "code",
   "execution_count": 22,
   "metadata": {},
   "outputs": [
    {
     "name": "stdout",
     "output_type": "stream",
     "text": [
      "(397896, 15)\n"
     ]
    },
    {
     "data": {
      "text/plain": [
       "price                0\n",
       "year                 0\n",
       "manufacturer     12791\n",
       "model             3678\n",
       "condition       164527\n",
       "cylinders       168891\n",
       "fuel              2640\n",
       "odometer          4204\n",
       "title_status      7532\n",
       "transmission      2402\n",
       "drive           121071\n",
       "type             82400\n",
       "paint_color     120046\n",
       "state                0\n",
       "posting_date         0\n",
       "dtype: int64"
      ]
     },
     "execution_count": 22,
     "metadata": {},
     "output_type": "execute_result"
    }
   ],
   "source": [
    "df=df1.drop(columns=['id','url','region','region_url','VIN','image_url','description','size','lat','long','county'])\n",
    "#they are not useful for analysis\n",
    "df.dropna(subset=['manufacturer','model','fuel','odometer','transmission','condition', 'cylinders', 'title_status','posting_date', 'drive', 'type', 'paint_color'], axis=0, how='all', inplace=True)\n",
    "print(df.shape)\n",
    "df.isnull().sum()"
   ]
  },
  {
   "cell_type": "code",
   "execution_count": 23,
   "metadata": {},
   "outputs": [
    {
     "data": {
      "text/plain": [
       "(396954, 15)"
      ]
     },
     "execution_count": 23,
     "metadata": {},
     "output_type": "execute_result"
    }
   ],
   "source": [
    "#drop duplicates\n",
    "duplicate = df[df.duplicated()]\n",
    "duplicate.shape\n",
    "df2=df.drop_duplicates(keep=False)\n",
    "df2.shape"
   ]
  },
  {
   "cell_type": "code",
   "execution_count": 25,
   "metadata": {},
   "outputs": [
    {
     "data": {
      "text/plain": [
       "price                0\n",
       "year                 0\n",
       "manufacturer         0\n",
       "model                0\n",
       "condition       164347\n",
       "cylinders            0\n",
       "fuel                 0\n",
       "odometer          4204\n",
       "title_status         0\n",
       "transmission         0\n",
       "drive                0\n",
       "type                 0\n",
       "paint_color          0\n",
       "state                0\n",
       "posting_date         0\n",
       "dtype: int64"
      ]
     },
     "execution_count": 25,
     "metadata": {},
     "output_type": "execute_result"
    }
   ],
   "source": [
    "######################"
   ]
  },
  {
   "cell_type": "code",
   "execution_count": 26,
   "metadata": {},
   "outputs": [],
   "source": [
    "#Add variable 'age' of cars\n",
    "df2.posting_date = pd.to_datetime(df2.posting_date, utc=True)\n",
    "df2.posting_date = df2.posting_date.astype('datetime64[ns]')\n",
    "df2['age'] = df2.posting_date.dt.year.astype(int) - df2.year.astype(int)"
   ]
  },
  {
   "cell_type": "code",
   "execution_count": 27,
   "metadata": {},
   "outputs": [],
   "source": [
    "#fill null values in odometer column with median values for each value of age\n",
    "df2['odometer'] = df2.groupby(['age'])['odometer'].apply(lambda x: x.fillna(x.median()))\n"
   ]
  },
  {
   "cell_type": "code",
   "execution_count": 28,
   "metadata": {},
   "outputs": [],
   "source": [
    "# Calculate mean odometer values for each condition\n",
    "mean_odo = df2.groupby('condition')['odometer'].mean()\n",
    "\n",
    "# Fill missing values in 'condition' column based on 'odometer' values\n",
    "df2['condition'] = df2.apply(lambda x: \n",
    "  'like new' if x['odometer'] <= mean_odo['like new'] else \n",
    "  'fair' if x['odometer'] >= mean_odo['fair'] else \n",
    "  'excellent' if mean_odo['like new'] < x['odometer'] <= mean_odo['excellent'] else \n",
    "  'good' if mean_odo['excellent'] < x['odometer'] <= mean_odo['good'] else \n",
    "  'salvage', axis=1).fillna(df2['condition'])"
   ]
  },
  {
   "cell_type": "code",
   "execution_count": null,
   "metadata": {},
   "outputs": [],
   "source": [
    "df2=df2.sort_values(['year','model','condition'])"
   ]
  },
  {
   "cell_type": "code",
   "execution_count": null,
   "metadata": {},
   "outputs": [],
   "source": [
    "df2['transmission'] = df2['transmission'].fillna(method='ffill')\n",
    "df2['cylinders'] = df2['cylinders'].fillna(method='ffill')\n",
    "df2['title_status'] = df2['title_status'].fillna(method='ffill')\n",
    "df2['fuel'] = df2['fuel'].fillna(method='ffill')\n",
    "df2['paint_color'] = df2['paint_color'].fillna(method='ffill')\n",
    "df2['drive'] = df2['drive'].fillna(method='ffill')\n",
    "df2['manufacturer'] = df2['manufacturer'].fillna(method='ffill')\n",
    "df2['type'] = df2['type'].fillna(method='ffill')\n",
    "df2['model'] = df2['model'].fillna(method='ffill')\n",
    "df2.isnull().sum()"
   ]
  },
  {
   "cell_type": "code",
   "execution_count": 29,
   "metadata": {},
   "outputs": [
    {
     "data": {
      "text/plain": [
       "price           0\n",
       "year            0\n",
       "manufacturer    0\n",
       "model           0\n",
       "condition       0\n",
       "cylinders       0\n",
       "fuel            0\n",
       "odometer        0\n",
       "title_status    0\n",
       "transmission    0\n",
       "drive           0\n",
       "type            0\n",
       "paint_color     0\n",
       "state           0\n",
       "posting_date    0\n",
       "age             0\n",
       "dtype: int64"
      ]
     },
     "execution_count": 29,
     "metadata": {},
     "output_type": "execute_result"
    }
   ],
   "source": [
    "df2=df2.dropna()\n",
    "df2.isnull().sum()"
   ]
  },
  {
   "cell_type": "code",
   "execution_count": 30,
   "metadata": {},
   "outputs": [],
   "source": [
    "# re-ordering the columns to display price as the last column\n",
    "df2= df2.reindex(columns=['year', 'manufacturer',\n",
    "       'model', 'condition', 'cylinders', 'fuel', 'odometer', 'age','title_status',\n",
    "       'transmission', 'drive',  'type', 'posting_date','paint_color','state','price'])"
   ]
  },
  {
   "cell_type": "code",
   "execution_count": 31,
   "metadata": {},
   "outputs": [
    {
     "name": "stdout",
     "output_type": "stream",
     "text": [
      "count    3.969540e+05\n",
      "mean     4.951579e+04\n",
      "std      9.399797e+06\n",
      "min      0.000000e+00\n",
      "25%      5.997000e+03\n",
      "50%      1.400000e+04\n",
      "75%      2.698500e+04\n",
      "max      3.736929e+09\n",
      "Name: price, dtype: float64\n",
      "65000.0\n",
      "449.0\n"
     ]
    }
   ],
   "source": [
    "#price outliers\n",
    "\n",
    "print(df2['price'].describe())\n",
    "# Upper limit and lower limit based on price cars\n",
    "p1 = df2['price'].quantile(0.99) \n",
    "p2 = df2['price'].quantile(0.1)   \n",
    "print(p1)\n",
    "print(p2)\n",
    "df3 = df2[(df2['price'] < p1) & (df2['price'] > p2)]"
   ]
  },
  {
   "cell_type": "code",
   "execution_count": 32,
   "metadata": {},
   "outputs": [
    {
     "data": {
      "text/plain": [
       "Text(0.5, 1.0, 'Histogram of Car Prices')"
      ]
     },
     "execution_count": 32,
     "metadata": {},
     "output_type": "execute_result"
    },
    {
     "data": {
      "image/png": "[encoded data removed]",
      "text/plain": [
       "<Figure size 640x480 with 1 Axes>"
      ]
     },
     "metadata": {},
     "output_type": "display_data"
    }
   ],
   "source": [
    "plt.subplot(1,2,1)\n",
    "plt.hist(df3['price'], bins=10)\n",
    "plt.xlabel('Price')\n",
    "plt.ylabel('Frequency')\n",
    "plt.title('Histogram of Car Prices')"
   ]
  },
  {
   "cell_type": "code",
   "execution_count": 33,
   "metadata": {},
   "outputs": [
    {
     "name": "stdout",
     "output_type": "stream",
     "text": [
      "266000.0\n",
      "16931.0\n",
      "count    314320.000000\n",
      "mean     100493.218169\n",
      "std       55321.036258\n",
      "min       16935.000000\n",
      "25%       53048.750000\n",
      "50%       96474.000000\n",
      "75%      139596.000000\n",
      "max      265900.000000\n",
      "Name: odometer, dtype: float64\n"
     ]
    }
   ],
   "source": [
    "#odometer outliers\n",
    "# Upper and lower limit based on odometer\n",
    "o1 = df3['odometer'].quantile(0.99) \n",
    "o2 = df3['odometer'].quantile(0.1)  \n",
    "print(o1)\n",
    "print(o2)\n",
    "df4 = df3[(df3['odometer'] < o1) & (df3['odometer'] > o2)]\n",
    "print(df4['odometer'].describe())"
   ]
  },
  {
   "cell_type": "code",
   "execution_count": 34,
   "metadata": {},
   "outputs": [
    {
     "data": {
      "text/html": [
       "<style type=\"text/css\">\n",
       "#T_f4347_row0_col0, #T_f4347_row1_col1, #T_f4347_row2_col2, #T_f4347_row3_col3 {\n",
       "  background-color: #b40426;\n",
       "  color: #f1f1f1;\n",
       "}\n",
       "#T_f4347_row0_col1, #T_f4347_row0_col2, #T_f4347_row2_col0, #T_f4347_row2_col3 {\n",
       "  background-color: #3b4cc0;\n",
       "  color: #f1f1f1;\n",
       "}\n",
       "#T_f4347_row0_col3 {\n",
       "  background-color: #f59c7d;\n",
       "  color: #000000;\n",
       "}\n",
       "#T_f4347_row1_col0 {\n",
       "  background-color: #7295f4;\n",
       "  color: #f1f1f1;\n",
       "}\n",
       "#T_f4347_row1_col2 {\n",
       "  background-color: #e9785d;\n",
       "  color: #f1f1f1;\n",
       "}\n",
       "#T_f4347_row1_col3 {\n",
       "  background-color: #465ecf;\n",
       "  color: #f1f1f1;\n",
       "}\n",
       "#T_f4347_row2_col1 {\n",
       "  background-color: #f08a6c;\n",
       "  color: #f1f1f1;\n",
       "}\n",
       "#T_f4347_row3_col0 {\n",
       "  background-color: #ee8468;\n",
       "  color: #f1f1f1;\n",
       "}\n",
       "#T_f4347_row3_col1 {\n",
       "  background-color: #516ddb;\n",
       "  color: #f1f1f1;\n",
       "}\n",
       "#T_f4347_row3_col2 {\n",
       "  background-color: #7b9ff9;\n",
       "  color: #f1f1f1;\n",
       "}\n",
       "</style>\n",
       "<table id=\"T_f4347\">\n",
       "  <thead>\n",
       "    <tr>\n",
       "      <th class=\"blank level0\" >&nbsp;</th>\n",
       "      <th id=\"T_f4347_level0_col0\" class=\"col_heading level0 col0\" >year</th>\n",
       "      <th id=\"T_f4347_level0_col1\" class=\"col_heading level0 col1\" >odometer</th>\n",
       "      <th id=\"T_f4347_level0_col2\" class=\"col_heading level0 col2\" >age</th>\n",
       "      <th id=\"T_f4347_level0_col3\" class=\"col_heading level0 col3\" >price</th>\n",
       "    </tr>\n",
       "  </thead>\n",
       "  <tbody>\n",
       "    <tr>\n",
       "      <th id=\"T_f4347_level0_row0\" class=\"row_heading level0 row0\" >year</th>\n",
       "      <td id=\"T_f4347_row0_col0\" class=\"data row0 col0\" >1.000000</td>\n",
       "      <td id=\"T_f4347_row0_col1\" class=\"data row0 col1\" >-0.651441</td>\n",
       "      <td id=\"T_f4347_row0_col2\" class=\"data row0 col2\" >-1.000000</td>\n",
       "      <td id=\"T_f4347_row0_col3\" class=\"data row0 col3\" >0.593903</td>\n",
       "    </tr>\n",
       "    <tr>\n",
       "      <th id=\"T_f4347_level0_row1\" class=\"row_heading level0 row1\" >odometer</th>\n",
       "      <td id=\"T_f4347_row1_col0\" class=\"data row1 col0\" >-0.651441</td>\n",
       "      <td id=\"T_f4347_row1_col1\" class=\"data row1 col1\" >1.000000</td>\n",
       "      <td id=\"T_f4347_row1_col2\" class=\"data row1 col2\" >0.651441</td>\n",
       "      <td id=\"T_f4347_row1_col3\" class=\"data row1 col3\" >-0.526753</td>\n",
       "    </tr>\n",
       "    <tr>\n",
       "      <th id=\"T_f4347_level0_row2\" class=\"row_heading level0 row2\" >age</th>\n",
       "      <td id=\"T_f4347_row2_col0\" class=\"data row2 col0\" >-1.000000</td>\n",
       "      <td id=\"T_f4347_row2_col1\" class=\"data row2 col1\" >0.651441</td>\n",
       "      <td id=\"T_f4347_row2_col2\" class=\"data row2 col2\" >1.000000</td>\n",
       "      <td id=\"T_f4347_row2_col3\" class=\"data row2 col3\" >-0.593903</td>\n",
       "    </tr>\n",
       "    <tr>\n",
       "      <th id=\"T_f4347_level0_row3\" class=\"row_heading level0 row3\" >price</th>\n",
       "      <td id=\"T_f4347_row3_col0\" class=\"data row3 col0\" >0.593903</td>\n",
       "      <td id=\"T_f4347_row3_col1\" class=\"data row3 col1\" >-0.526753</td>\n",
       "      <td id=\"T_f4347_row3_col2\" class=\"data row3 col2\" >-0.593903</td>\n",
       "      <td id=\"T_f4347_row3_col3\" class=\"data row3 col3\" >1.000000</td>\n",
       "    </tr>\n",
       "  </tbody>\n",
       "</table>\n"
      ],
      "text/plain": [
       "<pandas.io.formats.style.Styler at 0x286732612b0>"
      ]
     },
     "execution_count": 34,
     "metadata": {},
     "output_type": "execute_result"
    }
   ],
   "source": [
    "#correlation matrix for dataset\n",
    "corrm=df4.corr()\n",
    "corrm.style.background_gradient(cmap='coolwarm')"
   ]
  },
  {
   "cell_type": "code",
   "execution_count": 35,
   "metadata": {},
   "outputs": [],
   "source": [
    "df5=df4\n",
    "le=LabelEncoder()\n",
    "df5['manufacturer']=le.fit_transform(df5['manufacturer'])\n",
    "df5['model']=le.fit_transform(df5['model'])\n",
    "df5['condition']=le.fit_transform(df5['condition'])\n",
    "df5['cylinders']=le.fit_transform(df5['cylinders'])\n",
    "df5['fuel']=le.fit_transform(df5['fuel'])\n",
    "df5['title_status']=le.fit_transform(df5['title_status'])\n",
    "df5['transmission']=le.fit_transform(df5['transmission'])\n",
    "df5['drive']=le.fit_transform(df5['drive'])\n",
    "df5['type']=le.fit_transform(df5['type'])\n",
    "df5['paint_color']=le.fit_transform(df5['paint_color'])\n",
    "df5['state']=le.fit_transform(df5['state'])"
   ]
  },
  {
   "cell_type": "code",
   "execution_count": 36,
   "metadata": {},
   "outputs": [
    {
     "name": "stdout",
     "output_type": "stream",
     "text": [
      "MAE:  2455.7823915654826\n",
      "RMSE:  4576.216051515686\n",
      "r2_score:  0.866933485084266\n",
      "MSE:  20941753.35014981\n"
     ]
    }
   ],
   "source": [
    "X = df5.drop(columns=['price','posting_date','year']) \n",
    "y = df5[['price']] \n",
    "X.shape\n",
    "\n",
    "X_train,X_test,y_train,y_test = train_test_split(X, y, test_size=0.25) \n",
    "\n",
    "\n",
    "\n",
    "rf = RandomForestRegressor(n_estimators=20, random_state=0)\n",
    "rf.fit(X_train, y_train)\n",
    "y_pred_rf = rf.predict(X_test)\n",
    "\n",
    "rmse_rf = np.sqrt(metrics.mean_squared_error(y_test, y_pred_rf))\n",
    "print('MAE: ', mean_absolute_error(y_test, y_pred_rf))\n",
    "print('RMSE: ',rmse_rf)\n",
    "print('r2_score: ',rf.score(X_test, y_test))\n",
    "print('MSE: ',metrics.mean_squared_error(y_test, y_pred_rf))\n"
   ]
  },
  {
   "cell_type": "code",
   "execution_count": 37,
   "metadata": {},
   "outputs": [
    {
     "name": "stdout",
     "output_type": "stream",
     "text": [
      "Variable: age                  Importance: 0.37\n",
      "Variable: odometer             Importance: 0.15\n",
      "Variable: model                Importance: 0.13\n",
      "Variable: fuel                 Importance: 0.1\n",
      "Variable: manufacturer         Importance: 0.06\n",
      "Variable: drive                Importance: 0.06\n",
      "Variable: cylinders            Importance: 0.03\n",
      "Variable: type                 Importance: 0.03\n",
      "Variable: state                Importance: 0.03\n",
      "Variable: title_status         Importance: 0.01\n",
      "Variable: transmission         Importance: 0.01\n",
      "Variable: paint_color          Importance: 0.01\n",
      "Variable: condition            Importance: 0.0\n"
     ]
    },
    {
     "data": {
      "text/plain": [
       "[None, None, None, None, None, None, None, None, None, None, None, None, None]"
      ]
     },
     "execution_count": 37,
     "metadata": {},
     "output_type": "execute_result"
    }
   ],
   "source": [
    "# Get numerical feature importances\n",
    "features=X\n",
    "feature_list = list(features.columns)\n",
    "features = np.array(features)\n",
    "importances = list(rf.feature_importances_)\n",
    "\n",
    "# List of tuples with variable and importance\n",
    "feature_importances = [(feature, round(importance, 2)) for feature, importance in zip(feature_list, importances)]\n",
    "\n",
    "# Sort the feature importances by most important first\n",
    "feature_importances = sorted(feature_importances, key = lambda x: x[1], reverse = True)\n",
    "\n",
    "# Print out the feature and importances \n",
    "[print('Variable: {:20} Importance: {}'.format(*pair)) for pair in feature_importances]"
   ]
  }
 ],
 "metadata": {
  "kernelspec": {
   "display_name": "base",
   "language": "python",
   "name": "python3"
  },
  "language_info": {
   "codemirror_mode": {
    "name": "ipython",
    "version": 3
   },
   "file_extension": ".py",
   "mimetype": "text/x-python",
   "name": "python",
   "nbconvert_exporter": "python",
   "pygments_lexer": "ipython3",
   "version": "3.9.13"
  },
  "orig_nbformat": 4
 },
 "nbformat": 4,
 "nbformat_minor": 2
}
